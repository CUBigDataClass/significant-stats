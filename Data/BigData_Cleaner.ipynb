{
 "cells": [
  {
   "cell_type": "code",
   "execution_count": 45,
   "metadata": {},
   "outputs": [],
   "source": [
    "import pandas as pd\n",
    "\n",
    "df = pd.read_csv(\"GlobalLandTemperaturesByCountry.csv\")\n",
    "df.dropna(inplace=True)\n",
    "\n",
    "df['year']='0'\n",
    "df['month']='0'\n",
    "\n",
    "for i in range(len(df)):\n",
    "    if \"-\" in df['dt'].iloc[i]:\n",
    "        df['year'].iloc[i] = df['dt'].iloc[i][0:4]\n",
    "        df['month'].iloc[i] = df['dt'].iloc[i][5:7]\n",
    "    else:\n",
    "        length = len(df['dt'].iloc[i])\n",
    "        df['year'].iloc[i] = df['dt'].iloc[i][length - 4:length]\n",
    "        if \"/\" in df['dt'].iloc[i][0:2]:\n",
    "            df['month'].iloc[i] = \"0\" + df['dt'].iloc[i][0]\n",
    "        else:\n",
    "            df['month'].iloc[i] = df['dt'].iloc[i][0:2]\n",
    "    \n",
    "#df = df.groupby(['dt', 'Country']).AverageTemperature.mean()\n",
    "df.to_csv(\"cleaned_data_GloabLandTemperaturesByCountry.csv\")"
   ]
  },
  {
   "cell_type": "code",
   "execution_count": null,
   "metadata": {},
   "outputs": [],
   "source": []
  },
  {
   "cell_type": "code",
   "execution_count": null,
   "metadata": {},
   "outputs": [],
   "source": []
  }
 ],
 "metadata": {
  "kernelspec": {
   "display_name": "Python 3",
   "language": "python",
   "name": "python3"
  },
  "language_info": {
   "codemirror_mode": {
    "name": "ipython",
    "version": 3
   },
   "file_extension": ".py",
   "mimetype": "text/x-python",
   "name": "python",
   "nbconvert_exporter": "python",
   "pygments_lexer": "ipython3",
   "version": "3.7.1"
  }
 },
 "nbformat": 4,
 "nbformat_minor": 2
}
