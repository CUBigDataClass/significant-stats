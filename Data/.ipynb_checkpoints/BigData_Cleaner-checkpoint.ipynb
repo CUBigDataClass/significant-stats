{
 "cells": [
  {
   "cell_type": "code",
   "execution_count": 30,
   "metadata": {},
   "outputs": [
    {
     "name": "stdout",
     "output_type": "stream",
     "text": [
      "Country\n",
      "Åland    6.6985\n",
      "Name: AverageTemperature, dtype: float64\n"
     ]
    }
   ],
   "source": [
    "import pandas as pd\n",
    "\n",
    "df = pd.read_csv(\"GlobalLandTemperaturesByCountry.csv\")\n",
    "df.dropna(inplace=True)\n",
    "\n",
    "for i in range(len(df)):\n",
    "#for i in range(2001):\n",
    "    if \"-\" in df['dt'].iloc[i]:\n",
    "        df['dt'].iloc[i] = df['dt'].iloc[i][0:4]\n",
    "    else:\n",
    "        length = len(df['dt'].iloc[i])\n",
    "        df['dt'].iloc[i] = df['dt'].iloc[i][length - 4:length]\n",
    "    \n",
    "df = df.groupby(['dt', 'Country']).AverageTemperature.mean()\n",
    "df.to_csv(\"cleaned_data_GloabLandTemperaturesByCountry.csv\")\n",
    "#print(df.loc['1744'])"
   ]
  },
  {
   "cell_type": "code",
   "execution_count": null,
   "metadata": {},
   "outputs": [],
   "source": []
  },
  {
   "cell_type": "code",
   "execution_count": null,
   "metadata": {},
   "outputs": [],
   "source": []
  }
 ],
 "metadata": {
  "kernelspec": {
   "display_name": "Python 3",
   "language": "python",
   "name": "python3"
  },
  "language_info": {
   "codemirror_mode": {
    "name": "ipython",
    "version": 3
   },
   "file_extension": ".py",
   "mimetype": "text/x-python",
   "name": "python",
   "nbconvert_exporter": "python",
   "pygments_lexer": "ipython3",
   "version": "3.7.1"
  }
 },
 "nbformat": 4,
 "nbformat_minor": 2
}
