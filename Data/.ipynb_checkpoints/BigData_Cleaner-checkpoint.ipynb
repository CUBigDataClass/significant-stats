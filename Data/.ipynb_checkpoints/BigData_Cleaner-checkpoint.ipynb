{
 "cells": [
  {
   "cell_type": "code",
   "execution_count": 31,
   "metadata": {},
   "outputs": [
    {
     "name": "stdout",
     "output_type": "stream",
     "text": [
      "dt                    1916-06-01\n",
      "AverageTemperature        10.086\n",
      "Country                    Åland\n",
      "Name: 2071, dtype: object\n",
      "1916-06-01\n"
     ]
    }
   ],
   "source": [
    "import pandas as pd\n",
    "\n",
    "df = pd.read_csv(\"GlobalLandTemperaturesByCountry.csv\")\n",
    "df.dropna(inplace=True)\n",
    "for i in range(len(df)):\n",
    "    df['dt'].iloc[i] = pd.to_datetime(df['dt'].iloc[i], infer_datetime_format=True, format = '%m/%d/%Y').date()\n",
    "df.to_csv(\"cleaned_data_GloabLandTemperaturesByCountry.csv\")"
   ]
  },
  {
   "cell_type": "code",
   "execution_count": null,
   "metadata": {},
   "outputs": [],
   "source": []
  },
  {
   "cell_type": "code",
   "execution_count": null,
   "metadata": {},
   "outputs": [],
   "source": []
  }
 ],
 "metadata": {
  "kernelspec": {
   "display_name": "Python 3",
   "language": "python",
   "name": "python3"
  },
  "language_info": {
   "codemirror_mode": {
    "name": "ipython",
    "version": 3
   },
   "file_extension": ".py",
   "mimetype": "text/x-python",
   "name": "python",
   "nbconvert_exporter": "python",
   "pygments_lexer": "ipython3",
   "version": "3.7.1"
  }
 },
 "nbformat": 4,
 "nbformat_minor": 2
}
